{
 "cells": [
  {
   "cell_type": "code",
   "execution_count": 42,
   "metadata": {
    "collapsed": true
   },
   "outputs": [],
   "source": [
    "import sentencepiece as spm\n",
    "from coherence_model import AlbertCoherenceRank\n",
    "from transformers import AlbertConfig\n",
    "import torch"
   ]
  },
  {
   "cell_type": "code",
   "execution_count": 2,
   "outputs": [],
   "source": [
    "s = spm.SentencePieceProcessor(model_file='tokenizer_65536.model')"
   ],
   "metadata": {
    "collapsed": false,
    "pycharm": {
     "name": "#%%\n"
    }
   }
  },
  {
   "cell_type": "code",
   "execution_count": 12,
   "outputs": [],
   "source": [
    "albert_tiny_config = {\n",
    "    \"attention_probs_dropout_prob\": 0.0,\n",
    "    \"directionality\": \"bidi\",\n",
    "    \"hidden_act\": \"gelu\",\n",
    "    \"hidden_dropout_prob\": 0.0,\n",
    "    \"hidden_size\": 312,\n",
    "    \"embedding_size\": 128,\n",
    "    \"initializer_range\": 0.02,\n",
    "    \"intermediate_size\": 1248 ,\n",
    "    \"max_position_embeddings\": 512,\n",
    "    \"num_attention_heads\": 12,\n",
    "    \"num_hidden_layers\": 4,\n",
    "    \"pooler_fc_size\": 768,\n",
    "    \"pooler_num_attention_heads\": 12,\n",
    "    \"pooler_num_fc_layers\": 3,\n",
    "    \"pooler_size_per_head\": 128,\n",
    "    \"pooler_type\": \"first_token_transform\",\n",
    "    \"type_vocab_size\": 2,\n",
    "    \"vocab_size\": 65536,\n",
    "    \"ln_type\":\"postln\"\n",
    "}\n",
    "\n",
    "config = AlbertConfig(**albert_tiny_config)"
   ],
   "metadata": {
    "collapsed": false,
    "pycharm": {
     "name": "#%%\n"
    }
   }
  },
  {
   "cell_type": "code",
   "execution_count": 14,
   "outputs": [],
   "source": [
    "model = AlbertCoherenceRank.from_pretrained('./coherence_model', config=config, sequence_length=128)"
   ],
   "metadata": {
    "collapsed": false,
    "pycharm": {
     "name": "#%%\n"
    }
   }
  },
  {
   "cell_type": "code",
   "execution_count": 83,
   "outputs": [],
   "source": [
    "class NeuralWordSegmentation:\n",
    "\n",
    "    def __init__(self, tokenizer_path, model):\n",
    "        self.spm = spm.SentencePieceProcessor(model_file=tokenizer_path)\n",
    "        self.model = model\n",
    "\n",
    "    def get(self, sentence, nbest=10):\n",
    "        candidates = self.spm.NBestEncodeAsIds(sentence, nbest)\n",
    "        candidates_words = self.spm.NBestEncodeAsPieces(sentence, nbest)\n",
    "        inputs = torch.zeros((len(candidates), 128), dtype=int)\n",
    "        for i, candidate in enumerate(candidates):\n",
    "            inputs[i,:len(candidate)] = torch.tensor(candidate)\n",
    "        self.model.eval()\n",
    "        albert_out, _ = self.model.albert(inputs)\n",
    "        scores = self.model.mlp(torch.flatten(albert_out, start_dim=1)).to('cpu').detach().numpy()\n",
    "        results = [(\"/\".join(candidate), scores[i,0], i+1) for i, candidate in enumerate(candidates_words)]\n",
    "        return sorted(results, key=lambda t: t[1], reverse=True)"
   ],
   "metadata": {
    "collapsed": false,
    "pycharm": {
     "name": "#%%\n"
    }
   }
  },
  {
   "cell_type": "code",
   "execution_count": 84,
   "outputs": [],
   "source": [
    "nws = NeuralWordSegmentation('tokenizer_65536.model', model)"
   ],
   "metadata": {
    "collapsed": false,
    "pycharm": {
     "name": "#%%\n"
    }
   }
  },
  {
   "cell_type": "code",
   "execution_count": 102,
   "outputs": [
    {
     "data": {
      "text/plain": "[('▁/兒子/生/性病/母/倍/感/安慰', -0.52289635, 1),\n ('▁/兒子/生性/病/母/倍/感/安慰', -0.62185246, 2),\n ('▁/兒/子/生/性/病/母/倍/感/安慰', -0.67673385, 8),\n ('▁/兒/子/生/性病/母/倍/感/安慰', -0.6780272, 4),\n ('▁/兒/子/生性/病/母/倍/感/安慰', -0.75988257, 5)]"
     },
     "execution_count": 102,
     "metadata": {},
     "output_type": "execute_result"
    }
   ],
   "source": [
    "nws.get('兒子生性病母倍感安慰', 10)"
   ],
   "metadata": {
    "collapsed": false,
    "pycharm": {
     "name": "#%%\n"
    }
   }
  },
  {
   "cell_type": "code",
   "execution_count": 123,
   "outputs": [
    {
     "data": {
      "text/plain": "[('▁/獅子山/下體/現/香港/精神', 0.110433176, 5),\n ('▁/獅子山/下/體/現/香港/精神', 0.016519196, 8),\n ('▁/獅子/山/下/體現/香港/精神', -0.036805652, 7),\n ('▁/獅子山下/體/現/香港/精神', -0.14911321, 3),\n ('▁/獅子山下/體現/香港/精神', -0.15852737, 1),\n ('▁/獅子山/下/體現/香港/精神', -0.20499955, 2),\n ('▁/獅子山下/體/現/香港/精/神', -0.20978086, 10),\n ('▁/獅子山/下/體現/香港/精/神', -0.22237615, 9),\n ('▁/獅子山下/體現/香港/精/神', -0.3028409, 4),\n ('▁/獅子山下/體現/香/港/精神', -0.37603474, 6)]"
     },
     "execution_count": 123,
     "metadata": {},
     "output_type": "execute_result"
    }
   ],
   "source": [
    "nws.get('獅子山下體現香港精神', 10)\n"
   ],
   "metadata": {
    "collapsed": false,
    "pycharm": {
     "name": "#%%\n"
    }
   }
  },
  {
   "cell_type": "code",
   "execution_count": 109,
   "outputs": [
    {
     "data": {
      "text/plain": "[('▁/花/生長/在/屋/後的/田/裡', 0.08546053, 3),\n ('▁/花/生長/在/屋/後/的/田/裡', -0.15445843, 4),\n ('▁/花/生/長/在/屋/後/的/田/裡', -0.22414203, 6),\n ('▁/花/生/長/在/屋/後的/田/裡', -0.47418493, 5),\n ('▁/花生/長/在/屋/後的/田/裡', -0.81693584, 1),\n ('▁/花生/長/在/屋/後/的/田/裡', -0.92735624, 2)]"
     },
     "execution_count": 109,
     "metadata": {},
     "output_type": "execute_result"
    }
   ],
   "source": [
    "nws.get('花生長在屋後的田裡', 10)"
   ],
   "metadata": {
    "collapsed": false,
    "pycharm": {
     "name": "#%%\n"
    }
   }
  },
  {
   "cell_type": "code",
   "execution_count": 124,
   "outputs": [
    {
     "data": {
      "text/plain": "[('▁/照/顧客/嘅/要求/設計/產品', 0.0071468055, 3),\n ('▁/照/顧/客/嘅/要求/設計/產品', -0.06025382, 9),\n ('▁/照/顧客/嘅/要/求/設計/產品', -0.220116, 6),\n ('▁照/顧/客/嘅/要求/設計/產品', -0.22720684, 7),\n ('▁照/顧客/嘅/要/求/設計/產品', -0.8018307, 5),\n ('▁照/顧客/嘅/要求/設計/產品', -0.835267, 2),\n ('▁/照顧/客/嘅/要求/設計/產品', -0.8555057, 1),\n ('▁/照顧/客/嘅/要/求/設計/產品', -0.95422095, 4),\n ('▁/照顧/客/嘅/要求/設計/產/品', -0.9880646, 10),\n ('▁/照顧/客/嘅/要求/設/計/產品', -1.0709113, 8)]"
     },
     "execution_count": 124,
     "metadata": {},
     "output_type": "execute_result"
    }
   ],
   "source": [
    "nws.get('照顧客嘅要求設計產品', 10)"
   ],
   "metadata": {
    "collapsed": false,
    "pycharm": {
     "name": "#%%\n"
    }
   }
  },
  {
   "cell_type": "code",
   "execution_count": 125,
   "outputs": [
    {
     "data": {
      "text/plain": "[('▁/要/學/生活/得更/有意義', 0.36772978, 5),\n ('▁/要/學生/活得/更/有意義', 0.30958253, 6),\n ('▁/要/學生/活/得更/有意義', 0.28081858, 9),\n ('▁/要學/生活/得更/有/意義', -0.056980528, 10),\n ('▁/要學/生活/得/更/有意義', -0.32899457, 4),\n ('▁要/學生/活得/更/有意義', -0.33722532, 3),\n ('▁要/學/生活/得/更/有意義', -0.37182134, 8),\n ('▁/要學/生活/得更/有意義', -0.48700887, 1),\n ('▁要/學/生活/得更/有意義', -0.5989682, 2),\n ('▁要/學生/活/得更/有意義', -0.67934483, 7)]"
     },
     "execution_count": 125,
     "metadata": {},
     "output_type": "execute_result"
    }
   ],
   "source": [
    "nws.get('要學生活得更有意義', 10)\n"
   ],
   "metadata": {
    "collapsed": false,
    "pycharm": {
     "name": "#%%\n"
    }
   }
  },
  {
   "cell_type": "code",
   "execution_count": null,
   "outputs": [],
   "source": [],
   "metadata": {
    "collapsed": false,
    "pycharm": {
     "name": "#%%\n"
    }
   }
  }
 ],
 "metadata": {
  "kernelspec": {
   "display_name": "Python 3",
   "language": "python",
   "name": "python3"
  },
  "language_info": {
   "codemirror_mode": {
    "name": "ipython",
    "version": 2
   },
   "file_extension": ".py",
   "mimetype": "text/x-python",
   "name": "python",
   "nbconvert_exporter": "python",
   "pygments_lexer": "ipython2",
   "version": "2.7.6"
  }
 },
 "nbformat": 4,
 "nbformat_minor": 0
}